{
 "cells": [
  {
   "cell_type": "code",
   "metadata": {
    "tags": [],
    "cell_id": "4daaf9fb-2def-4b91-81e4-4bf71ff1aece",
    "deepnote_to_be_reexecuted": false,
    "source_hash": "9b82ee11",
    "execution_start": 1649878585159,
    "execution_millis": 48,
    "deepnote_cell_type": "code",
    "deepnote_cell_height": 81
   },
   "source": "import pandas as pd",
   "execution_count": 1,
   "outputs": []
  },
  {
   "cell_type": "code",
   "source": "lindas = pd.read_csv('Lindas.csv')",
   "metadata": {
    "cell_id": "8e7b2b6fab4a4b14a1724b6e3f903923",
    "tags": [],
    "deepnote_to_be_reexecuted": false,
    "source_hash": "198791c6",
    "execution_start": 1649878585207,
    "execution_millis": 1,
    "deepnote_cell_type": "code",
    "deepnote_cell_height": 81
   },
   "outputs": [],
   "execution_count": 2
  },
  {
   "cell_type": "code",
   "source": "lindas",
   "metadata": {
    "cell_id": "89c042ef05b14069a06c25bc235c14e1",
    "tags": [],
    "deepnote_to_be_reexecuted": false,
    "source_hash": "78830505",
    "execution_start": 1649878585209,
    "execution_millis": 18,
    "deepnote_cell_type": "code",
    "deepnote_cell_height": 600
   },
   "outputs": [
    {
     "output_type": "execute_result",
     "execution_count": 3,
     "data": {
      "application/vnd.deepnote.dataframe.v3+json": {
       "column_count": 2,
       "row_count": 111,
       "columns": [
        {
         "name": "year",
         "dtype": "int64",
         "stats": {
          "unique_count": 111,
          "nan_count": 0,
          "min": "1910",
          "max": "2020",
          "histogram": [
           {
            "bin_start": 1910,
            "bin_end": 1921,
            "count": 11
           },
           {
            "bin_start": 1921,
            "bin_end": 1932,
            "count": 11
           },
           {
            "bin_start": 1932,
            "bin_end": 1943,
            "count": 11
           },
           {
            "bin_start": 1943,
            "bin_end": 1954,
            "count": 11
           },
           {
            "bin_start": 1954,
            "bin_end": 1965,
            "count": 11
           },
           {
            "bin_start": 1965,
            "bin_end": 1976,
            "count": 11
           },
           {
            "bin_start": 1976,
            "bin_end": 1987,
            "count": 11
           },
           {
            "bin_start": 1987,
            "bin_end": 1998,
            "count": 11
           },
           {
            "bin_start": 1998,
            "bin_end": 2009,
            "count": 11
           },
           {
            "bin_start": 2009,
            "bin_end": 2020,
            "count": 12
           }
          ]
         }
        },
        {
         "name": "Lindas",
         "dtype": "int64",
         "stats": {
          "unique_count": 111,
          "nan_count": 0,
          "min": "79",
          "max": "99849",
          "histogram": [
           {
            "bin_start": 79,
            "bin_end": 10056,
            "count": 80
           },
           {
            "bin_start": 10056,
            "bin_end": 20033,
            "count": 7
           },
           {
            "bin_start": 20033,
            "bin_end": 30010,
            "count": 3
           },
           {
            "bin_start": 30010,
            "bin_end": 39987,
            "count": 6
           },
           {
            "bin_start": 39987,
            "bin_end": 49964,
            "count": 5
           },
           {
            "bin_start": 49964,
            "bin_end": 59941,
            "count": 3
           },
           {
            "bin_start": 59941,
            "bin_end": 69918,
            "count": 2
           },
           {
            "bin_start": 69918,
            "bin_end": 79895,
            "count": 1
           },
           {
            "bin_start": 79895,
            "bin_end": 89872,
            "count": 1
           },
           {
            "bin_start": 89872,
            "bin_end": 99849,
            "count": 3
           }
          ]
         }
        },
        {
         "name": "_deepnote_index_column",
         "dtype": "int64"
        }
       ],
       "rows": [
        {
         "year": 1910,
         "Lindas": 95,
         "_deepnote_index_column": 0
        },
        {
         "year": 1911,
         "Lindas": 79,
         "_deepnote_index_column": 1
        },
        {
         "year": 1912,
         "Lindas": 145,
         "_deepnote_index_column": 2
        },
        {
         "year": 1913,
         "Lindas": 187,
         "_deepnote_index_column": 3
        },
        {
         "year": 1914,
         "Lindas": 153,
         "_deepnote_index_column": 4
        },
        {
         "year": 1915,
         "Lindas": 246,
         "_deepnote_index_column": 5
        },
        {
         "year": 1916,
         "Lindas": 241,
         "_deepnote_index_column": 6
        },
        {
         "year": 1917,
         "Lindas": 237,
         "_deepnote_index_column": 7
        },
        {
         "year": 1918,
         "Lindas": 269,
         "_deepnote_index_column": 8
        },
        {
         "year": 1919,
         "Lindas": 216,
         "_deepnote_index_column": 9
        }
       ]
      },
      "text/plain": "     year  Lindas\n0    1910      95\n1    1911      79\n2    1912     145\n3    1913     187\n4    1914     153\n..    ...     ...\n106  2016     386\n107  2017     356\n108  2018     359\n109  2019     295\n110  2020     275\n\n[111 rows x 2 columns]",
      "text/html": "<div>\n<style scoped>\n    .dataframe tbody tr th:only-of-type {\n        vertical-align: middle;\n    }\n\n    .dataframe tbody tr th {\n        vertical-align: top;\n    }\n\n    .dataframe thead th {\n        text-align: right;\n    }\n</style>\n<table border=\"1\" class=\"dataframe\">\n  <thead>\n    <tr style=\"text-align: right;\">\n      <th></th>\n      <th>year</th>\n      <th>Lindas</th>\n    </tr>\n  </thead>\n  <tbody>\n    <tr>\n      <th>0</th>\n      <td>1910</td>\n      <td>95</td>\n    </tr>\n    <tr>\n      <th>1</th>\n      <td>1911</td>\n      <td>79</td>\n    </tr>\n    <tr>\n      <th>2</th>\n      <td>1912</td>\n      <td>145</td>\n    </tr>\n    <tr>\n      <th>3</th>\n      <td>1913</td>\n      <td>187</td>\n    </tr>\n    <tr>\n      <th>4</th>\n      <td>1914</td>\n      <td>153</td>\n    </tr>\n    <tr>\n      <th>...</th>\n      <td>...</td>\n      <td>...</td>\n    </tr>\n    <tr>\n      <th>106</th>\n      <td>2016</td>\n      <td>386</td>\n    </tr>\n    <tr>\n      <th>107</th>\n      <td>2017</td>\n      <td>356</td>\n    </tr>\n    <tr>\n      <th>108</th>\n      <td>2018</td>\n      <td>359</td>\n    </tr>\n    <tr>\n      <th>109</th>\n      <td>2019</td>\n      <td>295</td>\n    </tr>\n    <tr>\n      <th>110</th>\n      <td>2020</td>\n      <td>275</td>\n    </tr>\n  </tbody>\n</table>\n<p>111 rows × 2 columns</p>\n</div>"
     },
     "metadata": {}
    }
   ],
   "execution_count": 3
  },
  {
   "cell_type": "code",
   "source": "joshuas = pd.read_csv('Joshuas.csv')",
   "metadata": {
    "cell_id": "ea4b5b9f9f444dc2bb49d5b5b32aa8ef",
    "tags": [],
    "deepnote_to_be_reexecuted": false,
    "source_hash": "b77a9212",
    "execution_start": 1649878585214,
    "execution_millis": 1,
    "deepnote_cell_type": "code",
    "deepnote_cell_height": 81
   },
   "outputs": [],
   "execution_count": 4
  },
  {
   "cell_type": "code",
   "source": "joshuas",
   "metadata": {
    "cell_id": "62aba3004000434596d6722ad87f1e36",
    "tags": [],
    "deepnote_to_be_reexecuted": false,
    "source_hash": "19f7807c",
    "execution_start": 1649878585226,
    "execution_millis": 9,
    "deepnote_cell_type": "code",
    "deepnote_cell_height": 600
   },
   "outputs": [
    {
     "output_type": "execute_result",
     "execution_count": 5,
     "data": {
      "application/vnd.deepnote.dataframe.v3+json": {
       "column_count": 2,
       "row_count": 111,
       "columns": [
        {
         "name": "year",
         "dtype": "int64",
         "stats": {
          "unique_count": 111,
          "nan_count": 0,
          "min": "1910",
          "max": "2020",
          "histogram": [
           {
            "bin_start": 1910,
            "bin_end": 1921,
            "count": 11
           },
           {
            "bin_start": 1921,
            "bin_end": 1932,
            "count": 11
           },
           {
            "bin_start": 1932,
            "bin_end": 1943,
            "count": 11
           },
           {
            "bin_start": 1943,
            "bin_end": 1954,
            "count": 11
           },
           {
            "bin_start": 1954,
            "bin_end": 1965,
            "count": 11
           },
           {
            "bin_start": 1965,
            "bin_end": 1976,
            "count": 11
           },
           {
            "bin_start": 1976,
            "bin_end": 1987,
            "count": 11
           },
           {
            "bin_start": 1987,
            "bin_end": 1998,
            "count": 11
           },
           {
            "bin_start": 1998,
            "bin_end": 2009,
            "count": 11
           },
           {
            "bin_start": 2009,
            "bin_end": 2020,
            "count": 12
           }
          ]
         }
        },
        {
         "name": "Joshuas",
         "dtype": "int64",
         "stats": {
          "unique_count": 101,
          "nan_count": 0,
          "min": "5",
          "max": "44251",
          "histogram": [
           {
            "bin_start": 5,
            "bin_end": 4429.6,
            "count": 62
           },
           {
            "bin_start": 4429.6,
            "bin_end": 8854.2,
            "count": 6
           },
           {
            "bin_start": 8854.2,
            "bin_end": 13278.800000000001,
            "count": 6
           },
           {
            "bin_start": 13278.800000000001,
            "bin_end": 17703.4,
            "count": 5
           },
           {
            "bin_start": 17703.4,
            "bin_end": 22128,
            "count": 3
           },
           {
            "bin_start": 22128,
            "bin_end": 26552.600000000002,
            "count": 7
           },
           {
            "bin_start": 26552.600000000002,
            "bin_end": 30977.200000000004,
            "count": 6
           },
           {
            "bin_start": 30977.200000000004,
            "bin_end": 35401.8,
            "count": 3
           },
           {
            "bin_start": 35401.8,
            "bin_end": 39826.4,
            "count": 6
           },
           {
            "bin_start": 39826.4,
            "bin_end": 44251,
            "count": 7
           }
          ]
         }
        },
        {
         "name": "_deepnote_index_column",
         "dtype": "int64"
        }
       ],
       "rows": [
        {
         "year": 1910,
         "Joshuas": 5,
         "_deepnote_index_column": 0
        },
        {
         "year": 1911,
         "Joshuas": 12,
         "_deepnote_index_column": 1
        },
        {
         "year": 1912,
         "Joshuas": 17,
         "_deepnote_index_column": 2
        },
        {
         "year": 1913,
         "Joshuas": 54,
         "_deepnote_index_column": 3
        },
        {
         "year": 1914,
         "Joshuas": 55,
         "_deepnote_index_column": 4
        },
        {
         "year": 1915,
         "Joshuas": 87,
         "_deepnote_index_column": 5
        },
        {
         "year": 1916,
         "Joshuas": 54,
         "_deepnote_index_column": 6
        },
        {
         "year": 1917,
         "Joshuas": 90,
         "_deepnote_index_column": 7
        },
        {
         "year": 1918,
         "Joshuas": 89,
         "_deepnote_index_column": 8
        },
        {
         "year": 1919,
         "Joshuas": 97,
         "_deepnote_index_column": 9
        }
       ]
      },
      "text/plain": "     year  Joshuas\n0    1910        5\n1    1911       12\n2    1912       17\n3    1913       54\n4    1914       55\n..    ...      ...\n106  2016     9213\n107  2017     8318\n108  2018     7403\n109  2019     6588\n110  2020     5924\n\n[111 rows x 2 columns]",
      "text/html": "<div>\n<style scoped>\n    .dataframe tbody tr th:only-of-type {\n        vertical-align: middle;\n    }\n\n    .dataframe tbody tr th {\n        vertical-align: top;\n    }\n\n    .dataframe thead th {\n        text-align: right;\n    }\n</style>\n<table border=\"1\" class=\"dataframe\">\n  <thead>\n    <tr style=\"text-align: right;\">\n      <th></th>\n      <th>year</th>\n      <th>Joshuas</th>\n    </tr>\n  </thead>\n  <tbody>\n    <tr>\n      <th>0</th>\n      <td>1910</td>\n      <td>5</td>\n    </tr>\n    <tr>\n      <th>1</th>\n      <td>1911</td>\n      <td>12</td>\n    </tr>\n    <tr>\n      <th>2</th>\n      <td>1912</td>\n      <td>17</td>\n    </tr>\n    <tr>\n      <th>3</th>\n      <td>1913</td>\n      <td>54</td>\n    </tr>\n    <tr>\n      <th>4</th>\n      <td>1914</td>\n      <td>55</td>\n    </tr>\n    <tr>\n      <th>...</th>\n      <td>...</td>\n      <td>...</td>\n    </tr>\n    <tr>\n      <th>106</th>\n      <td>2016</td>\n      <td>9213</td>\n    </tr>\n    <tr>\n      <th>107</th>\n      <td>2017</td>\n      <td>8318</td>\n    </tr>\n    <tr>\n      <th>108</th>\n      <td>2018</td>\n      <td>7403</td>\n    </tr>\n    <tr>\n      <th>109</th>\n      <td>2019</td>\n      <td>6588</td>\n    </tr>\n    <tr>\n      <th>110</th>\n      <td>2020</td>\n      <td>5924</td>\n    </tr>\n  </tbody>\n</table>\n<p>111 rows × 2 columns</p>\n</div>"
     },
     "metadata": {}
    }
   ],
   "execution_count": 5
  },
  {
   "cell_type": "code",
   "source": "lindas_joshuas = lindas.join(joshuas.set_index('year'), on='year')",
   "metadata": {
    "cell_id": "d420fe4af9214fceaf1624d16cfd7da0",
    "tags": [],
    "deepnote_to_be_reexecuted": false,
    "source_hash": "ea6f2f03",
    "execution_start": 1649878585232,
    "execution_millis": 6,
    "deepnote_cell_type": "code",
    "deepnote_cell_height": 81
   },
   "outputs": [],
   "execution_count": 6
  },
  {
   "cell_type": "code",
   "source": "lindas_joshuas",
   "metadata": {
    "cell_id": "0259ef75c89b4042a10d984aea809261",
    "tags": [],
    "deepnote_to_be_reexecuted": false,
    "source_hash": "a1ef9630",
    "execution_start": 1649878585241,
    "execution_millis": 21,
    "deepnote_cell_type": "code",
    "deepnote_cell_height": 600
   },
   "outputs": [
    {
     "output_type": "execute_result",
     "execution_count": 7,
     "data": {
      "application/vnd.deepnote.dataframe.v3+json": {
       "column_count": 3,
       "row_count": 111,
       "columns": [
        {
         "name": "year",
         "dtype": "int64",
         "stats": {
          "unique_count": 111,
          "nan_count": 0,
          "min": "1910",
          "max": "2020",
          "histogram": [
           {
            "bin_start": 1910,
            "bin_end": 1921,
            "count": 11
           },
           {
            "bin_start": 1921,
            "bin_end": 1932,
            "count": 11
           },
           {
            "bin_start": 1932,
            "bin_end": 1943,
            "count": 11
           },
           {
            "bin_start": 1943,
            "bin_end": 1954,
            "count": 11
           },
           {
            "bin_start": 1954,
            "bin_end": 1965,
            "count": 11
           },
           {
            "bin_start": 1965,
            "bin_end": 1976,
            "count": 11
           },
           {
            "bin_start": 1976,
            "bin_end": 1987,
            "count": 11
           },
           {
            "bin_start": 1987,
            "bin_end": 1998,
            "count": 11
           },
           {
            "bin_start": 1998,
            "bin_end": 2009,
            "count": 11
           },
           {
            "bin_start": 2009,
            "bin_end": 2020,
            "count": 12
           }
          ]
         }
        },
        {
         "name": "Lindas",
         "dtype": "int64",
         "stats": {
          "unique_count": 111,
          "nan_count": 0,
          "min": "79",
          "max": "99849",
          "histogram": [
           {
            "bin_start": 79,
            "bin_end": 10056,
            "count": 80
           },
           {
            "bin_start": 10056,
            "bin_end": 20033,
            "count": 7
           },
           {
            "bin_start": 20033,
            "bin_end": 30010,
            "count": 3
           },
           {
            "bin_start": 30010,
            "bin_end": 39987,
            "count": 6
           },
           {
            "bin_start": 39987,
            "bin_end": 49964,
            "count": 5
           },
           {
            "bin_start": 49964,
            "bin_end": 59941,
            "count": 3
           },
           {
            "bin_start": 59941,
            "bin_end": 69918,
            "count": 2
           },
           {
            "bin_start": 69918,
            "bin_end": 79895,
            "count": 1
           },
           {
            "bin_start": 79895,
            "bin_end": 89872,
            "count": 1
           },
           {
            "bin_start": 89872,
            "bin_end": 99849,
            "count": 3
           }
          ]
         }
        },
        {
         "name": "Joshuas",
         "dtype": "int64",
         "stats": {
          "unique_count": 101,
          "nan_count": 0,
          "min": "5",
          "max": "44251",
          "histogram": [
           {
            "bin_start": 5,
            "bin_end": 4429.6,
            "count": 62
           },
           {
            "bin_start": 4429.6,
            "bin_end": 8854.2,
            "count": 6
           },
           {
            "bin_start": 8854.2,
            "bin_end": 13278.800000000001,
            "count": 6
           },
           {
            "bin_start": 13278.800000000001,
            "bin_end": 17703.4,
            "count": 5
           },
           {
            "bin_start": 17703.4,
            "bin_end": 22128,
            "count": 3
           },
           {
            "bin_start": 22128,
            "bin_end": 26552.600000000002,
            "count": 7
           },
           {
            "bin_start": 26552.600000000002,
            "bin_end": 30977.200000000004,
            "count": 6
           },
           {
            "bin_start": 30977.200000000004,
            "bin_end": 35401.8,
            "count": 3
           },
           {
            "bin_start": 35401.8,
            "bin_end": 39826.4,
            "count": 6
           },
           {
            "bin_start": 39826.4,
            "bin_end": 44251,
            "count": 7
           }
          ]
         }
        },
        {
         "name": "_deepnote_index_column",
         "dtype": "int64"
        }
       ],
       "rows": [
        {
         "year": 1910,
         "Lindas": 95,
         "Joshuas": 5,
         "_deepnote_index_column": 0
        },
        {
         "year": 1911,
         "Lindas": 79,
         "Joshuas": 12,
         "_deepnote_index_column": 1
        },
        {
         "year": 1912,
         "Lindas": 145,
         "Joshuas": 17,
         "_deepnote_index_column": 2
        },
        {
         "year": 1913,
         "Lindas": 187,
         "Joshuas": 54,
         "_deepnote_index_column": 3
        },
        {
         "year": 1914,
         "Lindas": 153,
         "Joshuas": 55,
         "_deepnote_index_column": 4
        },
        {
         "year": 1915,
         "Lindas": 246,
         "Joshuas": 87,
         "_deepnote_index_column": 5
        },
        {
         "year": 1916,
         "Lindas": 241,
         "Joshuas": 54,
         "_deepnote_index_column": 6
        },
        {
         "year": 1917,
         "Lindas": 237,
         "Joshuas": 90,
         "_deepnote_index_column": 7
        },
        {
         "year": 1918,
         "Lindas": 269,
         "Joshuas": 89,
         "_deepnote_index_column": 8
        },
        {
         "year": 1919,
         "Lindas": 216,
         "Joshuas": 97,
         "_deepnote_index_column": 9
        }
       ]
      },
      "text/plain": "     year  Lindas  Joshuas\n0    1910      95        5\n1    1911      79       12\n2    1912     145       17\n3    1913     187       54\n4    1914     153       55\n..    ...     ...      ...\n106  2016     386     9213\n107  2017     356     8318\n108  2018     359     7403\n109  2019     295     6588\n110  2020     275     5924\n\n[111 rows x 3 columns]",
      "text/html": "<div>\n<style scoped>\n    .dataframe tbody tr th:only-of-type {\n        vertical-align: middle;\n    }\n\n    .dataframe tbody tr th {\n        vertical-align: top;\n    }\n\n    .dataframe thead th {\n        text-align: right;\n    }\n</style>\n<table border=\"1\" class=\"dataframe\">\n  <thead>\n    <tr style=\"text-align: right;\">\n      <th></th>\n      <th>year</th>\n      <th>Lindas</th>\n      <th>Joshuas</th>\n    </tr>\n  </thead>\n  <tbody>\n    <tr>\n      <th>0</th>\n      <td>1910</td>\n      <td>95</td>\n      <td>5</td>\n    </tr>\n    <tr>\n      <th>1</th>\n      <td>1911</td>\n      <td>79</td>\n      <td>12</td>\n    </tr>\n    <tr>\n      <th>2</th>\n      <td>1912</td>\n      <td>145</td>\n      <td>17</td>\n    </tr>\n    <tr>\n      <th>3</th>\n      <td>1913</td>\n      <td>187</td>\n      <td>54</td>\n    </tr>\n    <tr>\n      <th>4</th>\n      <td>1914</td>\n      <td>153</td>\n      <td>55</td>\n    </tr>\n    <tr>\n      <th>...</th>\n      <td>...</td>\n      <td>...</td>\n      <td>...</td>\n    </tr>\n    <tr>\n      <th>106</th>\n      <td>2016</td>\n      <td>386</td>\n      <td>9213</td>\n    </tr>\n    <tr>\n      <th>107</th>\n      <td>2017</td>\n      <td>356</td>\n      <td>8318</td>\n    </tr>\n    <tr>\n      <th>108</th>\n      <td>2018</td>\n      <td>359</td>\n      <td>7403</td>\n    </tr>\n    <tr>\n      <th>109</th>\n      <td>2019</td>\n      <td>295</td>\n      <td>6588</td>\n    </tr>\n    <tr>\n      <th>110</th>\n      <td>2020</td>\n      <td>275</td>\n      <td>5924</td>\n    </tr>\n  </tbody>\n</table>\n<p>111 rows × 3 columns</p>\n</div>"
     },
     "metadata": {}
    }
   ],
   "execution_count": 7
  },
  {
   "cell_type": "code",
   "source": "lindas_joshuas.set_index(keys=[\"year\"],inplace=True)",
   "metadata": {
    "cell_id": "fe187c19d5ae4ed0b40107c7e1dd0e9e",
    "tags": [],
    "deepnote_to_be_reexecuted": false,
    "source_hash": "ec2ae6e9",
    "execution_start": 1649878585260,
    "execution_millis": 1,
    "deepnote_cell_type": "code",
    "deepnote_cell_height": 81
   },
   "outputs": [],
   "execution_count": 8
  },
  {
   "cell_type": "code",
   "source": "lindas_joshuas.plot(figsize=(10,5),color=['r','b']);",
   "metadata": {
    "cell_id": "1478a079f5b74382bdc9bf883b79ebc4",
    "tags": [],
    "deepnote_to_be_reexecuted": false,
    "source_hash": "4db96e3a",
    "execution_start": 1649878585263,
    "execution_millis": 1058,
    "deepnote_cell_type": "code",
    "deepnote_cell_height": 416,
    "deepnote_output_heights": [
     319,
     319
    ]
   },
   "outputs": [
    {
     "data": {
      "text/plain": "<Figure size 720x360 with 1 Axes>",
      "image/png": "[encoded data removed]"
     },
     "metadata": {
      "needs_background": "light",
      "image/png": {
       "width": 617,
       "height": 317
      }
     },
     "output_type": "display_data"
    }
   ],
   "execution_count": 9
  },
  {
   "cell_type": "code",
   "source": "from plotly.subplots import make_subplots",
   "metadata": {
    "cell_id": "5dc23ba5419547ed84cee0ff54f752a9",
    "tags": [],
    "deepnote_to_be_reexecuted": false,
    "source_hash": "c72b4410",
    "execution_start": 1649878586322,
    "execution_millis": 7,
    "deepnote_cell_type": "code",
    "deepnote_cell_height": 81
   },
   "outputs": [],
   "execution_count": 10
  },
  {
   "cell_type": "code",
   "source": "import plotly.graph_objects as go",
   "metadata": {
    "cell_id": "bab86eea9d734eb28dfa224f56b3b9e2",
    "tags": [],
    "deepnote_to_be_reexecuted": false,
    "source_hash": "cd51b9dc",
    "execution_start": 1649878586372,
    "execution_millis": 1,
    "deepnote_cell_type": "code",
    "deepnote_cell_height": 81
   },
   "outputs": [],
   "execution_count": 11
  },
  {
   "cell_type": "code",
   "source": "fig=make_subplots(rows=2,cols=1)\n\nfig.append_trace(go.Scatter(\n    x=lindas_joshuas.index,\n    y=lindas_joshuas['Lindas'],\n    name='Lindas'\n),row=1,col=1)\n\nfig.append_trace(go.Scatter(\n    x=lindas_joshuas.index,\n    y=lindas_joshuas['Joshuas'],\n    name='Joshuas'\n),row=2,col=1)\nfig.update_layout(height=1000, width=1000, title_text=\"Lindas and Joshuas in the USA\")\nfig.show()",
   "metadata": {
    "cell_id": "af81150143584b4ab63fd9bcc5e1c527",
    "tags": [],
    "deepnote_to_be_reexecuted": false,
    "source_hash": "bdefaa1b",
    "execution_start": 1649878586373,
    "execution_millis": 292,
    "deepnote_cell_type": "code",
    "deepnote_cell_height": 955.5,
    "deepnote_output_heights": [
     606.5
    ]
   },
   "outputs": [
    {
     "data": {
      "text/html": "<html>\n<head><meta charset=\"utf-8\" /></head>\n<body>\n    <div>            <script src=\"https://cdnjs.cloudflare.com/ajax/libs/mathjax/2.7.5/MathJax.js?config=TeX-AMS-MML_SVG\"></script><script type=\"text/javascript\">if (window.MathJax) {MathJax.Hub.Config({SVG: {font: \"STIX-Web\"}});}</script>                <script type=\"text/javascript\">window.PlotlyConfig = {MathJaxConfig: 'local'};</script>\n        <script src=\"https://cdn.plot.ly/plotly-2.9.0.min.js\"></script>                <div id=\"a89e117f-df52-4916-8cb5-f1655e45776d\" class=\"plotly-graph-div\" style=\"height:1000px; width:1000px;\"></div>            <script type=\"text/javascript\">                                    window.PLOTLYENV=window.PLOTLYENV || {};                                    if (document.getElementById(\"a89e117f-df52-4916-8cb5-f1655e45776d\")) {                    Plotly.newPlot(                        \"a89e117f-df52-4916-8cb5-f1655e45776d\",                        [{\"name\":\"Lindas\",\"x\":[1910,1911,1912,1913,1914,1915,1916,1917,1918,1919,1920,1921,1922,1923,1924,1925,1926,1927,1928,1929,1930,1931,1932,1933,1934,1935,1936,1937,1938,1939,1940,1941,1942,1943,1944,1945,1946,1947,1948,1949,1950,1951,1952,1953,1954,1955,1956,1957,1958,1959,1960,1961,1962,1963,1964,1965,1966,1967,1968,1969,1970,1971,1972,1973,1974,1975,1976,1977,1978,1979,1980,1981,1982,1983,1984,1985,1986,1987,1988,1989,1990,1991,1992,1993,1994,1995,1996,1997,1998,1999,2000,2001,2002,2003,2004,2005,2006,2007,2008,2009,2010,2011,2012,2013,2014,2015,2016,2017,2018,2019,2020],\"y\":[95,79,145,187,153,246,241,237,269,216,304,327,336,384,418,402,448,481,520,468,449,487,747,753,977,1178,2431,4374,7040,10713,18390,23742,31678,38538,38472,41512,52769,99849,96355,91123,80496,74061,67155,61347,55441,51353,48135,44567,41936,40486,37373,35614,31495,27762,23682,19354,15582,13197,11376,10251,8735,7374,5745,4730,4071,3521,3135,2905,2924,2728,2802,2714,2788,2477,2317,2102,1953,1903,1822,1824,1633,1583,1567,1459,1262,1209,943,1072,941,861,819,811,749,718,697,721,666,633,585,513,439,441,382,397,421,379,386,356,359,295,275],\"type\":\"scatter\",\"xaxis\":\"x\",\"yaxis\":\"y\"},{\"name\":\"Joshuas\",\"x\":[1910,1911,1912,1913,1914,1915,1916,1917,1918,1919,1920,1921,1922,1923,1924,1925,1926,1927,1928,1929,1930,1931,1932,1933,1934,1935,1936,1937,1938,1939,1940,1941,1942,1943,1944,1945,1946,1947,1948,1949,1950,1951,1952,1953,1954,1955,1956,1957,1958,1959,1960,1961,1962,1963,1964,1965,1966,1967,1968,1969,1970,1971,1972,1973,1974,1975,1976,1977,1978,1979,1980,1981,1982,1983,1984,1985,1986,1987,1988,1989,1990,1991,1992,1993,1994,1995,1996,1997,1998,1999,2000,2001,2002,2003,2004,2005,2006,2007,2008,2009,2010,2011,2012,2013,2014,2015,2016,2017,2018,2019,2020],\"y\":[5,12,17,54,55,87,54,90,89,97,92,91,75,97,75,70,60,81,73,33,54,57,74,53,73,53,62,59,34,61,61,53,78,69,72,62,71,110,90,146,114,126,141,130,144,197,200,222,226,271,260,313,274,320,335,429,448,527,691,1293,2173,3649,5038,8079,11612,14594,16901,22125,25298,31281,36214,39248,38203,36891,40490,42413,37782,40220,42901,44251,43334,41306,36292,33647,31411,30748,29210,28295,28113,27275,27552,26036,26012,25109,24297,23265,22326,20664,19219,17655,15448,13779,12665,11845,10917,9815,9213,8318,7403,6588,5924],\"type\":\"scatter\",\"xaxis\":\"x2\",\"yaxis\":\"y2\"}],                        {\"template\":{\"data\":{\"bar\":[{\"error_x\":{\"color\":\"#2a3f5f\"},\"error_y\":{\"color\":\"#2a3f5f\"},\"marker\":{\"line\":{\"color\":\"#E5ECF6\",\"width\":0.5},\"pattern\":{\"fillmode\":\"overlay\",\"size\":10,\"solidity\":0.2}},\"type\":\"bar\"}],\"barpolar\":[{\"marker\":{\"line\":{\"color\":\"#E5ECF6\",\"width\":0.5},\"pattern\":{\"fillmode\":\"overlay\",\"size\":10,\"solidity\":0.2}},\"type\":\"barpolar\"}],\"carpet\":[{\"aaxis\":{\"endlinecolor\":\"#2a3f5f\",\"gridcolor\":\"white\",\"linecolor\":\"white\",\"minorgridcolor\":\"white\",\"startlinecolor\":\"#2a3f5f\"},\"baxis\":{\"endlinecolor\":\"#2a3f5f\",\"gridcolor\":\"white\",\"linecolor\":\"white\",\"minorgridcolor\":\"white\",\"startlinecolor\":\"#2a3f5f\"},\"type\":\"carpet\"}],\"choropleth\":[{\"colorbar\":{\"outlinewidth\":0,\"ticks\":\"\"},\"type\":\"choropleth\"}],\"contour\":[{\"colorbar\":{\"outlinewidth\":0,\"ticks\":\"\"},\"colorscale\":[[0.0,\"#0d0887\"],[0.1111111111111111,\"#46039f\"],[0.2222222222222222,\"#7201a8\"],[0.3333333333333333,\"#9c179e\"],[0.4444444444444444,\"#bd3786\"],[0.5555555555555556,\"#d8576b\"],[0.6666666666666666,\"#ed7953\"],[0.7777777777777778,\"#fb9f3a\"],[0.8888888888888888,\"#fdca26\"],[1.0,\"#f0f921\"]],\"type\":\"contour\"}],\"contourcarpet\":[{\"colorbar\":{\"outlinewidth\":0,\"ticks\":\"\"},\"type\":\"contourcarpet\"}],\"heatmap\":[{\"colorbar\":{\"outlinewidth\":0,\"ticks\":\"\"},\"colorscale\":[[0.0,\"#0d0887\"],[0.1111111111111111,\"#46039f\"],[0.2222222222222222,\"#7201a8\"],[0.3333333333333333,\"#9c179e\"],[0.4444444444444444,\"#bd3786\"],[0.5555555555555556,\"#d8576b\"],[0.6666666666666666,\"#ed7953\"],[0.7777777777777778,\"#fb9f3a\"],[0.8888888888888888,\"#fdca26\"],[1.0,\"#f0f921\"]],\"type\":\"heatmap\"}],\"heatmapgl\":[{\"colorbar\":{\"outlinewidth\":0,\"ticks\":\"\"},\"colorscale\":[[0.0,\"#0d0887\"],[0.1111111111111111,\"#46039f\"],[0.2222222222222222,\"#7201a8\"],[0.3333333333333333,\"#9c179e\"],[0.4444444444444444,\"#bd3786\"],[0.5555555555555556,\"#d8576b\"],[0.6666666666666666,\"#ed7953\"],[0.7777777777777778,\"#fb9f3a\"],[0.8888888888888888,\"#fdca26\"],[1.0,\"#f0f921\"]],\"type\":\"heatmapgl\"}],\"histogram\":[{\"marker\":{\"pattern\":{\"fillmode\":\"overlay\",\"size\":10,\"solidity\":0.2}},\"type\":\"histogram\"}],\"histogram2d\":[{\"colorbar\":{\"outlinewidth\":0,\"ticks\":\"\"},\"colorscale\":[[0.0,\"#0d0887\"],[0.1111111111111111,\"#46039f\"],[0.2222222222222222,\"#7201a8\"],[0.3333333333333333,\"#9c179e\"],[0.4444444444444444,\"#bd3786\"],[0.5555555555555556,\"#d8576b\"],[0.6666666666666666,\"#ed7953\"],[0.7777777777777778,\"#fb9f3a\"],[0.8888888888888888,\"#fdca26\"],[1.0,\"#f0f921\"]],\"type\":\"histogram2d\"}],\"histogram2dcontour\":[{\"colorbar\":{\"outlinewidth\":0,\"ticks\":\"\"},\"colorscale\":[[0.0,\"#0d0887\"],[0.1111111111111111,\"#46039f\"],[0.2222222222222222,\"#7201a8\"],[0.3333333333333333,\"#9c179e\"],[0.4444444444444444,\"#bd3786\"],[0.5555555555555556,\"#d8576b\"],[0.6666666666666666,\"#ed7953\"],[0.7777777777777778,\"#fb9f3a\"],[0.8888888888888888,\"#fdca26\"],[1.0,\"#f0f921\"]],\"type\":\"histogram2dcontour\"}],\"mesh3d\":[{\"colorbar\":{\"outlinewidth\":0,\"ticks\":\"\"},\"type\":\"mesh3d\"}],\"parcoords\":[{\"line\":{\"colorbar\":{\"outlinewidth\":0,\"ticks\":\"\"}},\"type\":\"parcoords\"}],\"pie\":[{\"automargin\":true,\"type\":\"pie\"}],\"scatter\":[{\"marker\":{\"colorbar\":{\"outlinewidth\":0,\"ticks\":\"\"}},\"type\":\"scatter\"}],\"scatter3d\":[{\"line\":{\"colorbar\":{\"outlinewidth\":0,\"ticks\":\"\"}},\"marker\":{\"colorbar\":{\"outlinewidth\":0,\"ticks\":\"\"}},\"type\":\"scatter3d\"}],\"scattercarpet\":[{\"marker\":{\"colorbar\":{\"outlinewidth\":0,\"ticks\":\"\"}},\"type\":\"scattercarpet\"}],\"scattergeo\":[{\"marker\":{\"colorbar\":{\"outlinewidth\":0,\"ticks\":\"\"}},\"type\":\"scattergeo\"}],\"scattergl\":[{\"marker\":{\"colorbar\":{\"outlinewidth\":0,\"ticks\":\"\"}},\"type\":\"scattergl\"}],\"scattermapbox\":[{\"marker\":{\"colorbar\":{\"outlinewidth\":0,\"ticks\":\"\"}},\"type\":\"scattermapbox\"}],\"scatterpolar\":[{\"marker\":{\"colorbar\":{\"outlinewidth\":0,\"ticks\":\"\"}},\"type\":\"scatterpolar\"}],\"scatterpolargl\":[{\"marker\":{\"colorbar\":{\"outlinewidth\":0,\"ticks\":\"\"}},\"type\":\"scatterpolargl\"}],\"scatterternary\":[{\"marker\":{\"colorbar\":{\"outlinewidth\":0,\"ticks\":\"\"}},\"type\":\"scatterternary\"}],\"surface\":[{\"colorbar\":{\"outlinewidth\":0,\"ticks\":\"\"},\"colorscale\":[[0.0,\"#0d0887\"],[0.1111111111111111,\"#46039f\"],[0.2222222222222222,\"#7201a8\"],[0.3333333333333333,\"#9c179e\"],[0.4444444444444444,\"#bd3786\"],[0.5555555555555556,\"#d8576b\"],[0.6666666666666666,\"#ed7953\"],[0.7777777777777778,\"#fb9f3a\"],[0.8888888888888888,\"#fdca26\"],[1.0,\"#f0f921\"]],\"type\":\"surface\"}],\"table\":[{\"cells\":{\"fill\":{\"color\":\"#EBF0F8\"},\"line\":{\"color\":\"white\"}},\"header\":{\"fill\":{\"color\":\"#C8D4E3\"},\"line\":{\"color\":\"white\"}},\"type\":\"table\"}]},\"layout\":{\"annotationdefaults\":{\"arrowcolor\":\"#2a3f5f\",\"arrowhead\":0,\"arrowwidth\":1},\"autotypenumbers\":\"strict\",\"coloraxis\":{\"colorbar\":{\"outlinewidth\":0,\"ticks\":\"\"}},\"colorscale\":{\"diverging\":[[0,\"#8e0152\"],[0.1,\"#c51b7d\"],[0.2,\"#de77ae\"],[0.3,\"#f1b6da\"],[0.4,\"#fde0ef\"],[0.5,\"#f7f7f7\"],[0.6,\"#e6f5d0\"],[0.7,\"#b8e186\"],[0.8,\"#7fbc41\"],[0.9,\"#4d9221\"],[1,\"#276419\"]],\"sequential\":[[0.0,\"#0d0887\"],[0.1111111111111111,\"#46039f\"],[0.2222222222222222,\"#7201a8\"],[0.3333333333333333,\"#9c179e\"],[0.4444444444444444,\"#bd3786\"],[0.5555555555555556,\"#d8576b\"],[0.6666666666666666,\"#ed7953\"],[0.7777777777777778,\"#fb9f3a\"],[0.8888888888888888,\"#fdca26\"],[1.0,\"#f0f921\"]],\"sequentialminus\":[[0.0,\"#0d0887\"],[0.1111111111111111,\"#46039f\"],[0.2222222222222222,\"#7201a8\"],[0.3333333333333333,\"#9c179e\"],[0.4444444444444444,\"#bd3786\"],[0.5555555555555556,\"#d8576b\"],[0.6666666666666666,\"#ed7953\"],[0.7777777777777778,\"#fb9f3a\"],[0.8888888888888888,\"#fdca26\"],[1.0,\"#f0f921\"]]},\"colorway\":[\"#636efa\",\"#EF553B\",\"#00cc96\",\"#ab63fa\",\"#FFA15A\",\"#19d3f3\",\"#FF6692\",\"#B6E880\",\"#FF97FF\",\"#FECB52\"],\"font\":{\"color\":\"#2a3f5f\"},\"geo\":{\"bgcolor\":\"white\",\"lakecolor\":\"white\",\"landcolor\":\"#E5ECF6\",\"showlakes\":true,\"showland\":true,\"subunitcolor\":\"white\"},\"hoverlabel\":{\"align\":\"left\"},\"hovermode\":\"closest\",\"mapbox\":{\"style\":\"light\"},\"paper_bgcolor\":\"white\",\"plot_bgcolor\":\"#E5ECF6\",\"polar\":{\"angularaxis\":{\"gridcolor\":\"white\",\"linecolor\":\"white\",\"ticks\":\"\"},\"bgcolor\":\"#E5ECF6\",\"radialaxis\":{\"gridcolor\":\"white\",\"linecolor\":\"white\",\"ticks\":\"\"}},\"scene\":{\"xaxis\":{\"backgroundcolor\":\"#E5ECF6\",\"gridcolor\":\"white\",\"gridwidth\":2,\"linecolor\":\"white\",\"showbackground\":true,\"ticks\":\"\",\"zerolinecolor\":\"white\"},\"yaxis\":{\"backgroundcolor\":\"#E5ECF6\",\"gridcolor\":\"white\",\"gridwidth\":2,\"linecolor\":\"white\",\"showbackground\":true,\"ticks\":\"\",\"zerolinecolor\":\"white\"},\"zaxis\":{\"backgroundcolor\":\"#E5ECF6\",\"gridcolor\":\"white\",\"gridwidth\":2,\"linecolor\":\"white\",\"showbackground\":true,\"ticks\":\"\",\"zerolinecolor\":\"white\"}},\"shapedefaults\":{\"line\":{\"color\":\"#2a3f5f\"}},\"ternary\":{\"aaxis\":{\"gridcolor\":\"white\",\"linecolor\":\"white\",\"ticks\":\"\"},\"baxis\":{\"gridcolor\":\"white\",\"linecolor\":\"white\",\"ticks\":\"\"},\"bgcolor\":\"#E5ECF6\",\"caxis\":{\"gridcolor\":\"white\",\"linecolor\":\"white\",\"ticks\":\"\"}},\"title\":{\"x\":0.05},\"xaxis\":{\"automargin\":true,\"gridcolor\":\"white\",\"linecolor\":\"white\",\"ticks\":\"\",\"title\":{\"standoff\":15},\"zerolinecolor\":\"white\",\"zerolinewidth\":2},\"yaxis\":{\"automargin\":true,\"gridcolor\":\"white\",\"linecolor\":\"white\",\"ticks\":\"\",\"title\":{\"standoff\":15},\"zerolinecolor\":\"white\",\"zerolinewidth\":2}}},\"xaxis\":{\"anchor\":\"y\",\"domain\":[0.0,1.0]},\"yaxis\":{\"anchor\":\"x\",\"domain\":[0.575,1.0]},\"xaxis2\":{\"anchor\":\"y2\",\"domain\":[0.0,1.0]},\"yaxis2\":{\"anchor\":\"x2\",\"domain\":[0.0,0.425]},\"title\":{\"text\":\"Lindas and Joshuas in the USA\"},\"height\":1000,\"width\":1000},                        {\"responsive\": true}                    ).then(function(){\n                            \nvar gd = document.getElementById('a89e117f-df52-4916-8cb5-f1655e45776d');\nvar x = new MutationObserver(function (mutations, observer) {{\n        var display = window.getComputedStyle(gd).display;\n        if (!display || display === 'none') {{\n            console.log([gd, 'removed!']);\n            Plotly.purge(gd);\n            observer.disconnect();\n        }}\n}});\n\n// Listen for the removal of the full notebook cells\nvar notebookContainer = gd.closest('#notebook-container');\nif (notebookContainer) {{\n    x.observe(notebookContainer, {childList: true});\n}}\n\n// Listen for the clearing of the current output cell\nvar outputEl = gd.closest('.output');\nif (outputEl) {{\n    x.observe(outputEl, {childList: true});\n}}\n\n                        })                };                            </script>        </div>\n</body>\n</html>"
     },
     "metadata": {},
     "output_type": "display_data"
    }
   ],
   "execution_count": 12
  },
  {
   "cell_type": "code",
   "source": "fig.write_html('index.html')",
   "metadata": {
    "cell_id": "39f0e92a584146c8ad505d6c49a02ba5",
    "tags": [],
    "owner_user_id": "9941c54c-10f8-4195-95f5-5551d0623d7d",
    "deepnote_to_be_reexecuted": false,
    "source_hash": "d44fc178",
    "execution_start": 1649878761323,
    "execution_millis": 39,
    "deepnote_cell_type": "code",
    "deepnote_cell_height": 66
   },
   "outputs": [],
   "execution_count": 13
  },
  {
   "cell_type": "markdown",
   "source": "<a style='text-decoration:none;line-height:16px;display:flex;color:#5B5B62;padding:10px;justify-content:end;' href='https://deepnote.com?utm_source=created-in-deepnote-cell&projectId=caceb93c-46f7-41e7-aef2-0fc8c016f8b5' target=\"_blank\">\n<img alt='Created in deepnote.com' style='display:inline;max-height:16px;margin:0px;margin-right:7.5px;' src='data:image/svg+xml;base64,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' > </img>\nCreated in <span style='font-weight:600;margin-left:4px;'>Deepnote</span></a>",
   "metadata": {
    "tags": [],
    "created_in_deepnote_cell": true,
    "deepnote_cell_type": "markdown"
   }
  }
 ],
 "nbformat": 4,
 "nbformat_minor": 2,
 "metadata": {
  "orig_nbformat": 2,
  "deepnote": {
   "is_reactive": false
  },
  "deepnote_notebook_id": "2bb54dc4-1965-4051-b1c9-0194f7f2b46f",
  "deepnote_execution_queue": []
 }
}